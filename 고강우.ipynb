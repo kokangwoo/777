{
  "nbformat": 4,
  "nbformat_minor": 0,
  "metadata": {
    "colab": {
      "name": "고강우.ipynb",
      "version": "0.3.2",
      "provenance": [],
      "collapsed_sections": [],
      "include_colab_link": true
    },
    "kernelspec": {
      "name": "python3",
      "display_name": "Python 3"
    }
  },
  "cells": [
    {
      "cell_type": "markdown",
      "metadata": {
        "id": "view-in-github",
        "colab_type": "text"
      },
      "source": [
        "<a href=\"https://colab.research.google.com/github/kokangwoo/777/blob/master/%EA%B3%A0%EA%B0%95%EC%9A%B0.ipynb\" target=\"_parent\"><img src=\"https://colab.research.google.com/assets/colab-badge.svg\" alt=\"Open In Colab\"/></a>"
      ]
    },
    {
      "cell_type": "markdown",
      "metadata": {
        "id": "wEoQtWNpO4nt",
        "colab_type": "text"
      },
      "source": [
        "# 리스트"
      ]
    },
    {
      "cell_type": "markdown",
      "metadata": {
        "id": "twFXA4mxPfT0",
        "colab_type": "text"
      },
      "source": [
        "## 리스트란?\n",
        "\n",
        "리스트는 여러 값을 담을 수 있는 변수입니다."
      ]
    },
    {
      "cell_type": "markdown",
      "metadata": {
        "id": "Os7ZFLl_P3-u",
        "colab_type": "text"
      },
      "source": [
        "### 1. 리스트 만들기\n",
        "\n",
        "방법은 2가지"
      ]
    },
    {
      "cell_type": "markdown",
      "metadata": {
        "id": "wChMqvJnQLSz",
        "colab_type": "text"
      },
      "source": [
        "#### 방법 1\n"
      ]
    },
    {
      "cell_type": "code",
      "metadata": {
        "id": "_RrS7mDXQVoq",
        "colab_type": "code",
        "colab": {
          "base_uri": "https://localhost:8080/",
          "height": 36
        },
        "outputId": "4c26a3f3-d0a0-4e41-d18d-18a45bb2579f"
      },
      "source": [
        "# list1 이라는 빈 리스트를 만들어 보겠습니다\n",
        "\n",
        "list1 = []\n",
        "print(list1)"
      ],
      "execution_count": 2,
      "outputs": [
        {
          "output_type": "stream",
          "text": [
            "[]\n"
          ],
          "name": "stdout"
        }
      ]
    },
    {
      "cell_type": "code",
      "metadata": {
        "id": "TZVarDmnQ5T9",
        "colab_type": "code",
        "colab": {
          "base_uri": "https://localhost:8080/",
          "height": 36
        },
        "outputId": "1f40b466-3c0a-478d-a730-05f607569120"
      },
      "source": [
        "# list2를 만들어 보자. 1, '철수', True 를 넣어서.\n",
        "\n",
        "list2 = [1, '철수', True]\n",
        "print(list2)"
      ],
      "execution_count": 5,
      "outputs": [
        {
          "output_type": "stream",
          "text": [
            "[1, '철수', True]\n"
          ],
          "name": "stdout"
        }
      ]
    },
    {
      "cell_type": "markdown",
      "metadata": {
        "id": "j14n9LFZRSjM",
        "colab_type": "text"
      },
      "source": [
        "#### 방법 2"
      ]
    },
    {
      "cell_type": "code",
      "metadata": {
        "id": "70Yn1d3_R9Kg",
        "colab_type": "code",
        "colab": {
          "base_uri": "https://localhost:8080/",
          "height": 36
        },
        "outputId": "557fc299-b3af-4cd0-e1b2-806a07cd450e"
      },
      "source": [
        "list3 = list()\n",
        "print(list3)"
      ],
      "execution_count": 12,
      "outputs": [
        {
          "output_type": "stream",
          "text": [
            "[]\n"
          ],
          "name": "stdout"
        }
      ]
    },
    {
      "cell_type": "code",
      "metadata": {
        "id": "lfjynX5fUKL3",
        "colab_type": "code",
        "colab": {
          "base_uri": "https://localhost:8080/",
          "height": 194
        },
        "outputId": "56df0607-7873-49ef-f987-750961947405"
      },
      "source": [
        "# 1, '철수', True 를 넣어서 list4 를 만들어 보세요\n",
        "\n",
        "list4 = list(1, '철수', True)"
      ],
      "execution_count": 14,
      "outputs": [
        {
          "output_type": "error",
          "ename": "TypeError",
          "evalue": "ignored",
          "traceback": [
            "\u001b[0;31m---------------------------------------------------------------------------\u001b[0m",
            "\u001b[0;31mTypeError\u001b[0m                                 Traceback (most recent call last)",
            "\u001b[0;32m<ipython-input-14-bc9df21d16bc>\u001b[0m in \u001b[0;36m<module>\u001b[0;34m()\u001b[0m\n\u001b[1;32m      1\u001b[0m \u001b[0;34m\u001b[0m\u001b[0m\n\u001b[0;32m----> 2\u001b[0;31m \u001b[0mlist4\u001b[0m \u001b[0;34m=\u001b[0m \u001b[0mlist\u001b[0m\u001b[0;34m(\u001b[0m\u001b[0;36m1\u001b[0m\u001b[0;34m,\u001b[0m \u001b[0;34m'철수'\u001b[0m\u001b[0;34m,\u001b[0m \u001b[0;32mTrue\u001b[0m\u001b[0;34m)\u001b[0m\u001b[0;34m\u001b[0m\u001b[0;34m\u001b[0m\u001b[0m\n\u001b[0m",
            "\u001b[0;31mTypeError\u001b[0m: list() takes at most 1 argument (3 given)"
          ]
        }
      ]
    },
    {
      "cell_type": "code",
      "metadata": {
        "id": "Czn4xB6JUmi7",
        "colab_type": "code",
        "colab": {
          "base_uri": "https://localhost:8080/",
          "height": 36
        },
        "outputId": "33164b09-416b-4948-d53b-eb2e78b72a82"
      },
      "source": [
        "list4 = list([1, '철수', True])\n",
        "print(list4)"
      ],
      "execution_count": 18,
      "outputs": [
        {
          "output_type": "stream",
          "text": [
            "[1, '철수', True]\n"
          ],
          "name": "stdout"
        }
      ]
    },
    {
      "cell_type": "code",
      "metadata": {
        "id": "eQyD6FE7VPdr",
        "colab_type": "code",
        "colab": {}
      },
      "source": [
        ""
      ],
      "execution_count": 0,
      "outputs": []
    }
  ]
}